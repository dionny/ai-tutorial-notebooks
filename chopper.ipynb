{
  "cells": [
    {
      "cell_type": "markdown",
      "metadata": {
        "id": "view-in-github",
        "colab_type": "text"
      },
      "source": [
        "<a href=\"https://colab.research.google.com/github/dionny/ai-tutorial-notebooks/blob/main/chopper.ipynb\" target=\"_parent\"><img src=\"https://colab.research.google.com/assets/colab-badge.svg\" alt=\"Open In Colab\"/></a>"
      ]
    },
    {
      "cell_type": "markdown",
      "id": "592c960a",
      "metadata": {
        "id": "592c960a"
      },
      "source": [
        "# Element Chopping Using Object Detection\n",
        "\n",
        "This notebook uses object detection to chop elements from a screenshot from a purely visual input.\n",
        "\n",
        "After running the next cell, use the widget to upload an image of a screen from your local file system. The image may be a browser screenshot from a website or a screenshot from a mobile device. The image must be a PNG file."
      ]
    },
    {
      "cell_type": "code",
      "execution_count": 1,
      "id": "975c5d22",
      "metadata": {
        "colab": {
          "base_uri": "https://localhost:8080/",
          "height": 49,
          "referenced_widgets": [
            "d1e9a10de6b4422ca7842e4af37c5b42",
            "39309221c4314acb97ecbd688489acb6",
            "da3da1e1aef34b20b5358a96834dd08b"
          ]
        },
        "id": "975c5d22",
        "outputId": "9b343a54-0821-48c9-d584-8c9c6e657bb6"
      },
      "outputs": [
        {
          "output_type": "display_data",
          "data": {
            "text/plain": [
              "FileUpload(value={}, accept='.png', description='Upload')"
            ],
            "application/vnd.jupyter.widget-view+json": {
              "version_major": 2,
              "version_minor": 0,
              "model_id": "d1e9a10de6b4422ca7842e4af37c5b42"
            }
          },
          "metadata": {}
        }
      ],
      "source": [
        "import ipywidgets\n",
        "\n",
        "uploader = ipywidgets.FileUpload(\n",
        "    accept='.png',\n",
        "    multiple=False,\n",
        ")\n",
        "display(uploader)"
      ]
    },
    {
      "cell_type": "markdown",
      "id": "104a7e87-93a6-4d1d-8570-c358abf75e48",
      "metadata": {
        "id": "104a7e87-93a6-4d1d-8570-c358abf75e48"
      },
      "source": [
        "Visualize the uploaded screenshot."
      ]
    },
    {
      "cell_type": "code",
      "execution_count": 2,
      "id": "2916ad95",
      "metadata": {
        "colab": {
          "base_uri": "https://localhost:8080/",
          "height": 366
        },
        "id": "2916ad95",
        "outputId": "0c521ba2-755f-4702-f2cb-1d6a90580898"
      },
      "outputs": [
        {
          "output_type": "error",
          "ename": "ModuleNotFoundError",
          "evalue": "No module named 'notebook_utils'",
          "traceback": [
            "\u001b[0;31m---------------------------------------------------------------------------\u001b[0m",
            "\u001b[0;31mModuleNotFoundError\u001b[0m                       Traceback (most recent call last)",
            "\u001b[0;32m<ipython-input-2-a5789dd0cc54>\u001b[0m in \u001b[0;36m<cell line: 1>\u001b[0;34m()\u001b[0m\n\u001b[0;32m----> 1\u001b[0;31m \u001b[0;32mimport\u001b[0m \u001b[0mnotebook_utils\u001b[0m\u001b[0;34m\u001b[0m\u001b[0;34m\u001b[0m\u001b[0m\n\u001b[0m\u001b[1;32m      2\u001b[0m \u001b[0;34m\u001b[0m\u001b[0m\n\u001b[1;32m      3\u001b[0m \u001b[0mimage\u001b[0m \u001b[0;34m=\u001b[0m \u001b[0mnotebook_utils\u001b[0m\u001b[0;34m.\u001b[0m\u001b[0mget_uploaded_image\u001b[0m\u001b[0;34m(\u001b[0m\u001b[0muploader\u001b[0m\u001b[0;34m)\u001b[0m\u001b[0;34m\u001b[0m\u001b[0;34m\u001b[0m\u001b[0m\n\u001b[1;32m      4\u001b[0m \u001b[0mdisplay\u001b[0m\u001b[0;34m(\u001b[0m\u001b[0mipywidgets\u001b[0m\u001b[0;34m.\u001b[0m\u001b[0mImage\u001b[0m\u001b[0;34m(\u001b[0m\u001b[0mvalue\u001b[0m\u001b[0;34m=\u001b[0m\u001b[0mnotebook_utils\u001b[0m\u001b[0;34m.\u001b[0m\u001b[0mconvert_image_to_bytes\u001b[0m\u001b[0;34m(\u001b[0m\u001b[0mimage\u001b[0m\u001b[0;34m)\u001b[0m\u001b[0;34m,\u001b[0m \u001b[0mwidth\u001b[0m\u001b[0;34m=\u001b[0m\u001b[0;34m'25%'\u001b[0m\u001b[0;34m)\u001b[0m\u001b[0;34m)\u001b[0m\u001b[0;34m\u001b[0m\u001b[0;34m\u001b[0m\u001b[0m\n",
            "\u001b[0;31mModuleNotFoundError\u001b[0m: No module named 'notebook_utils'",
            "",
            "\u001b[0;31m---------------------------------------------------------------------------\u001b[0;32m\nNOTE: If your import is failing due to a missing package, you can\nmanually install dependencies using either !pip or !apt.\n\nTo view examples of installing some common dependencies, click the\n\"Open Examples\" button below.\n\u001b[0;31m---------------------------------------------------------------------------\u001b[0m\n"
          ],
          "errorDetails": {
            "actions": [
              {
                "action": "open_url",
                "actionText": "Open Examples",
                "url": "/notebooks/snippets/importing_libraries.ipynb"
              }
            ]
          }
        }
      ],
      "source": [
        "import notebook_utils\n",
        "\n",
        "image = notebook_utils.get_uploaded_image(uploader)\n",
        "display(ipywidgets.Image(value=notebook_utils.convert_image_to_bytes(image), width='25%'))"
      ]
    },
    {
      "cell_type": "markdown",
      "id": "2453e7f4-6670-4729-85a4-097294b7e289",
      "metadata": {
        "id": "2453e7f4-6670-4729-85a4-097294b7e289"
      },
      "source": [
        "Send the uploaded image to the object detection service to chop the image. Please be patient, this request can take up to 30 seconds."
      ]
    },
    {
      "cell_type": "code",
      "execution_count": null,
      "id": "a23dc945-921d-4f11-a107-849b591d2d34",
      "metadata": {
        "id": "a23dc945-921d-4f11-a107-849b591d2d34"
      },
      "outputs": [],
      "source": [
        "import io\n",
        "import requests\n",
        "\n",
        "from IPython.display import Markdown\n",
        "\n",
        "host = 'https://deep-vision.dionny.dev'\n",
        "url = f'{host}/deep_vision/'\n",
        "\n",
        "# Encode the uploaded image as multipart/form-data\n",
        "buffer = io.BytesIO()\n",
        "image.save(buffer, format='PNG')\n",
        "buffer.seek(0)\n",
        "\n",
        "# Send request to the deep vision service\n",
        "files = {'file': ('image.png', buffer, 'image/png')}\n",
        "response = requests.post(url, files=files)\n",
        "\n",
        "# Display success or failure message\n",
        "message = 'Request succeeded.'\n",
        "if response.status_code != 200:\n",
        "    message = f'Request failed with status code {response.status_code}.'\n",
        "display(Markdown(message))"
      ]
    },
    {
      "cell_type": "markdown",
      "id": "b8d87eda",
      "metadata": {
        "id": "b8d87eda"
      },
      "source": [
        "The service uses objection detection to identify elements from the screenshot. Run the cell below to view the JSON response."
      ]
    },
    {
      "cell_type": "code",
      "execution_count": null,
      "id": "34be4bca-a4b1-4ba8-9635-067f597e2164",
      "metadata": {
        "id": "34be4bca-a4b1-4ba8-9635-067f597e2164"
      },
      "outputs": [],
      "source": [
        "import json\n",
        "json_response = response.json()\n",
        "print(json.dumps(json_response, indent=True))"
      ]
    },
    {
      "cell_type": "markdown",
      "id": "9ff29f00-e324-4b12-9c80-45ab43a2072a",
      "metadata": {
        "id": "9ff29f00-e324-4b12-9c80-45ab43a2072a"
      },
      "source": [
        "Run the cell below to display the chopped elements and screenshots with bounding boxes."
      ]
    },
    {
      "cell_type": "code",
      "execution_count": null,
      "id": "8cdf6efb-c551-478a-806c-7278dba66c4f",
      "metadata": {
        "id": "8cdf6efb-c551-478a-806c-7278dba66c4f"
      },
      "outputs": [],
      "source": [
        "import ipywidgets\n",
        "from IPython.display import display\n",
        "\n",
        "elements = json_response\n",
        "\n",
        "# Create a grid to display screenshots with bounding boxes, the detected element name, and confidence.\n",
        "num_elements = len(elements)\n",
        "num_columns = 3  # Adjusted for an additional column\n",
        "grid_gap = '30px'\n",
        "title_grid = ipywidgets.GridspecLayout(1, num_columns, grid_gap=grid_gap)\n",
        "grid = ipywidgets.GridspecLayout(num_elements, num_columns, grid_gap=grid_gap)\n",
        "\n",
        "# Populate column titles.\n",
        "column_titles = ['Screenshot with Bounding Box', 'Type', 'Confidence']\n",
        "for i, column_title in enumerate(column_titles):\n",
        "    title_grid[0, i] = ipywidgets.HTML(value=f'<h1>{column_title}</h1>')\n",
        "\n",
        "# Populate grid.\n",
        "for i, element in enumerate(elements):\n",
        "    name = element['name']\n",
        "    confidence = f\"{element['confidence']:.2f}\"\n",
        "    box = element['box']\n",
        "    top_left = (box['x1'], box['y1'])\n",
        "    bottom_right = (box['x2'], box['y2'])\n",
        "\n",
        "    screenshot_with_bounding_box = notebook_utils.draw_bounding_box(image, top_left, bottom_right)\n",
        "\n",
        "    grid[i, 0] = ipywidgets.Image(value=notebook_utils.convert_image_to_bytes(screenshot_with_bounding_box), max_width='50%')\n",
        "    grid[i, 1] = ipywidgets.HTML(value=f'<h2>{name}</h2>')\n",
        "    grid[i, 2] = ipywidgets.HTML(value=f'<h2>{confidence}</h2>')\n",
        "\n",
        "# Display grid.\n",
        "display(title_grid)\n",
        "display(grid)\n"
      ]
    },
    {
      "cell_type": "code",
      "execution_count": null,
      "id": "695c6399",
      "metadata": {
        "id": "695c6399"
      },
      "outputs": [],
      "source": []
    }
  ],
  "metadata": {
    "kernelspec": {
      "display_name": "Python 3",
      "language": "python",
      "name": "python3"
    },
    "language_info": {
      "codemirror_mode": {
        "name": "ipython",
        "version": 3
      },
      "file_extension": ".py",
      "mimetype": "text/x-python",
      "name": "python",
      "nbconvert_exporter": "python",
      "pygments_lexer": "ipython3",
      "version": "3.8.8"
    },
    "colab": {
      "provenance": [],
      "include_colab_link": true
    },
    "widgets": {
      "application/vnd.jupyter.widget-state+json": {
        "d1e9a10de6b4422ca7842e4af37c5b42": {
          "model_module": "@jupyter-widgets/controls",
          "model_name": "FileUploadModel",
          "model_module_version": "1.5.0",
          "state": {
            "_counter": 1,
            "_dom_classes": [],
            "_model_module": "@jupyter-widgets/controls",
            "_model_module_version": "1.5.0",
            "_model_name": "FileUploadModel",
            "_view_count": null,
            "_view_module": "@jupyter-widgets/controls",
            "_view_module_version": "1.5.0",
            "_view_name": "FileUploadView",
            "accept": ".png",
            "button_style": "",
            "data": [
              null
            ],
            "description": "Upload",
            "description_tooltip": null,
            "disabled": false,
            "error": "",
            "icon": "upload",
            "layout": "IPY_MODEL_39309221c4314acb97ecbd688489acb6",
            "metadata": [
              {
                "name": "hyatt_screenshot.png",
                "type": "image/png",
                "size": 224320,
                "lastModified": 1632325537328
              }
            ],
            "multiple": false,
            "style": "IPY_MODEL_da3da1e1aef34b20b5358a96834dd08b"
          }
        },
        "39309221c4314acb97ecbd688489acb6": {
          "model_module": "@jupyter-widgets/base",
          "model_name": "LayoutModel",
          "model_module_version": "1.2.0",
          "state": {
            "_model_module": "@jupyter-widgets/base",
            "_model_module_version": "1.2.0",
            "_model_name": "LayoutModel",
            "_view_count": null,
            "_view_module": "@jupyter-widgets/base",
            "_view_module_version": "1.2.0",
            "_view_name": "LayoutView",
            "align_content": null,
            "align_items": null,
            "align_self": null,
            "border": null,
            "bottom": null,
            "display": null,
            "flex": null,
            "flex_flow": null,
            "grid_area": null,
            "grid_auto_columns": null,
            "grid_auto_flow": null,
            "grid_auto_rows": null,
            "grid_column": null,
            "grid_gap": null,
            "grid_row": null,
            "grid_template_areas": null,
            "grid_template_columns": null,
            "grid_template_rows": null,
            "height": null,
            "justify_content": null,
            "justify_items": null,
            "left": null,
            "margin": null,
            "max_height": null,
            "max_width": null,
            "min_height": null,
            "min_width": null,
            "object_fit": null,
            "object_position": null,
            "order": null,
            "overflow": null,
            "overflow_x": null,
            "overflow_y": null,
            "padding": null,
            "right": null,
            "top": null,
            "visibility": null,
            "width": null
          }
        },
        "da3da1e1aef34b20b5358a96834dd08b": {
          "model_module": "@jupyter-widgets/controls",
          "model_name": "ButtonStyleModel",
          "model_module_version": "1.5.0",
          "state": {
            "_model_module": "@jupyter-widgets/controls",
            "_model_module_version": "1.5.0",
            "_model_name": "ButtonStyleModel",
            "_view_count": null,
            "_view_module": "@jupyter-widgets/base",
            "_view_module_version": "1.2.0",
            "_view_name": "StyleView",
            "button_color": null,
            "font_weight": ""
          }
        }
      }
    }
  },
  "nbformat": 4,
  "nbformat_minor": 5
}